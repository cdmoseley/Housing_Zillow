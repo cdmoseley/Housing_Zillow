{
 "cells": [
  {
   "cell_type": "code",
   "execution_count": 1,
   "metadata": {},
   "outputs": [],
   "source": [
    "import pandas as pd"
   ]
  },
  {
   "cell_type": "code",
   "execution_count": 4,
   "metadata": {},
   "outputs": [],
   "source": [
    "Zillow_past_df = pd.read_csv('/Users/cdmoseley/dai_files/Mid_Term/Zillow_Housing/Data/Housing_Zillow_Past.csv')"
   ]
  },
  {
   "cell_type": "code",
   "execution_count": 5,
   "metadata": {},
   "outputs": [
    {
     "data": {
      "text/plain": [
       "Index(['RegionID', 'SizeRank', 'RegionName', 'RegionType', 'StateName',\n",
       "       'State', 'City', 'Metro', 'CountyName', '2000-01-31',\n",
       "       ...\n",
       "       '2023-05-31', '2023-06-30', '2023-07-31', '2023-08-31', '2023-09-30',\n",
       "       '2023-10-31', '2023-11-30', '2023-12-31', '2024-01-31', '2024-02-29'],\n",
       "      dtype='object', length=299)"
      ]
     },
     "execution_count": 5,
     "metadata": {},
     "output_type": "execute_result"
    }
   ],
   "source": [
    "Zillow_past_df.columns"
   ]
  },
  {
   "cell_type": "code",
   "execution_count": 6,
   "metadata": {},
   "outputs": [
    {
     "name": "stdout",
     "output_type": "stream",
     "text": [
      "<class 'pandas.core.frame.DataFrame'>\n",
      "RangeIndex: 26353 entries, 0 to 26352\n",
      "Columns: 299 entries, RegionID to 2024-02-29\n",
      "dtypes: float64(290), int64(3), object(6)\n",
      "memory usage: 60.1+ MB\n"
     ]
    }
   ],
   "source": [
    "Zillow_past_df.info()"
   ]
  },
  {
   "cell_type": "code",
   "execution_count": 7,
   "metadata": {},
   "outputs": [
    {
     "name": "stdout",
     "output_type": "stream",
     "text": [
      "13458\n",
      "2000-01-31\n",
      "6520.207357859532\n"
     ]
    }
   ],
   "source": [
    "null_counts = Zillow_past_df.isnull().sum()\n",
    "max_null_column = null_counts.idxmax()\n",
    "max_null_count = null_counts[max_null_column]\n",
    "print(max_null_count)\n",
    "print(max_null_column)\n",
    "average_null_counts = null_counts.mean()\n",
    "print(average_null_counts)"
   ]
  },
  {
   "cell_type": "code",
   "execution_count": 8,
   "metadata": {},
   "outputs": [],
   "source": [
    "Zillow_forecast_df=pd.read_csv('/Users/cdmoseley/dai_files/Mid_Term/Zillow_Housing/Data/Zillow_Housing_Forecast.csv')"
   ]
  },
  {
   "cell_type": "code",
   "execution_count": 9,
   "metadata": {},
   "outputs": [
    {
     "data": {
      "text/html": [
       "<div>\n",
       "<style scoped>\n",
       "    .dataframe tbody tr th:only-of-type {\n",
       "        vertical-align: middle;\n",
       "    }\n",
       "\n",
       "    .dataframe tbody tr th {\n",
       "        vertical-align: top;\n",
       "    }\n",
       "\n",
       "    .dataframe thead th {\n",
       "        text-align: right;\n",
       "    }\n",
       "</style>\n",
       "<table border=\"1\" class=\"dataframe\">\n",
       "  <thead>\n",
       "    <tr style=\"text-align: right;\">\n",
       "      <th></th>\n",
       "      <th>RegionID</th>\n",
       "      <th>SizeRank</th>\n",
       "      <th>RegionName</th>\n",
       "      <th>RegionType</th>\n",
       "      <th>StateName</th>\n",
       "      <th>State</th>\n",
       "      <th>City</th>\n",
       "      <th>Metro</th>\n",
       "      <th>CountyName</th>\n",
       "      <th>BaseDate</th>\n",
       "      <th>2024-03-31</th>\n",
       "      <th>2024-05-31</th>\n",
       "      <th>2025-02-28</th>\n",
       "    </tr>\n",
       "  </thead>\n",
       "  <tbody>\n",
       "    <tr>\n",
       "      <th>0</th>\n",
       "      <td>91982</td>\n",
       "      <td>1</td>\n",
       "      <td>77494</td>\n",
       "      <td>zip</td>\n",
       "      <td>TX</td>\n",
       "      <td>TX</td>\n",
       "      <td>Katy</td>\n",
       "      <td>Houston-The Woodlands-Sugar Land, TX</td>\n",
       "      <td>Fort Bend County</td>\n",
       "      <td>2024-02-29</td>\n",
       "      <td>0.4</td>\n",
       "      <td>0.3</td>\n",
       "      <td>-0.1</td>\n",
       "    </tr>\n",
       "    <tr>\n",
       "      <th>1</th>\n",
       "      <td>61148</td>\n",
       "      <td>2</td>\n",
       "      <td>8701</td>\n",
       "      <td>zip</td>\n",
       "      <td>NJ</td>\n",
       "      <td>NJ</td>\n",
       "      <td>Lakewood</td>\n",
       "      <td>New York-Newark-Jersey City, NY-NJ-PA</td>\n",
       "      <td>Ocean County</td>\n",
       "      <td>2024-02-29</td>\n",
       "      <td>0.5</td>\n",
       "      <td>1.4</td>\n",
       "      <td>-0.5</td>\n",
       "    </tr>\n",
       "    <tr>\n",
       "      <th>2</th>\n",
       "      <td>91940</td>\n",
       "      <td>3</td>\n",
       "      <td>77449</td>\n",
       "      <td>zip</td>\n",
       "      <td>TX</td>\n",
       "      <td>TX</td>\n",
       "      <td>Katy</td>\n",
       "      <td>Houston-The Woodlands-Sugar Land, TX</td>\n",
       "      <td>Harris County</td>\n",
       "      <td>2024-02-29</td>\n",
       "      <td>0.4</td>\n",
       "      <td>0.5</td>\n",
       "      <td>-0.2</td>\n",
       "    </tr>\n",
       "    <tr>\n",
       "      <th>3</th>\n",
       "      <td>62080</td>\n",
       "      <td>4</td>\n",
       "      <td>11368</td>\n",
       "      <td>zip</td>\n",
       "      <td>NY</td>\n",
       "      <td>NY</td>\n",
       "      <td>New York</td>\n",
       "      <td>New York-Newark-Jersey City, NY-NJ-PA</td>\n",
       "      <td>Queens County</td>\n",
       "      <td>2024-02-29</td>\n",
       "      <td>0.2</td>\n",
       "      <td>0.5</td>\n",
       "      <td>-1.0</td>\n",
       "    </tr>\n",
       "    <tr>\n",
       "      <th>4</th>\n",
       "      <td>91733</td>\n",
       "      <td>5</td>\n",
       "      <td>77084</td>\n",
       "      <td>zip</td>\n",
       "      <td>TX</td>\n",
       "      <td>TX</td>\n",
       "      <td>Houston</td>\n",
       "      <td>Houston-The Woodlands-Sugar Land, TX</td>\n",
       "      <td>Harris County</td>\n",
       "      <td>2024-02-29</td>\n",
       "      <td>0.3</td>\n",
       "      <td>0.3</td>\n",
       "      <td>-0.2</td>\n",
       "    </tr>\n",
       "  </tbody>\n",
       "</table>\n",
       "</div>"
      ],
      "text/plain": [
       "   RegionID  SizeRank  RegionName RegionType StateName State      City  \\\n",
       "0     91982         1       77494        zip        TX    TX      Katy   \n",
       "1     61148         2        8701        zip        NJ    NJ  Lakewood   \n",
       "2     91940         3       77449        zip        TX    TX      Katy   \n",
       "3     62080         4       11368        zip        NY    NY  New York   \n",
       "4     91733         5       77084        zip        TX    TX   Houston   \n",
       "\n",
       "                                   Metro        CountyName    BaseDate  \\\n",
       "0   Houston-The Woodlands-Sugar Land, TX  Fort Bend County  2024-02-29   \n",
       "1  New York-Newark-Jersey City, NY-NJ-PA      Ocean County  2024-02-29   \n",
       "2   Houston-The Woodlands-Sugar Land, TX     Harris County  2024-02-29   \n",
       "3  New York-Newark-Jersey City, NY-NJ-PA     Queens County  2024-02-29   \n",
       "4   Houston-The Woodlands-Sugar Land, TX     Harris County  2024-02-29   \n",
       "\n",
       "   2024-03-31  2024-05-31  2025-02-28  \n",
       "0         0.4         0.3        -0.1  \n",
       "1         0.5         1.4        -0.5  \n",
       "2         0.4         0.5        -0.2  \n",
       "3         0.2         0.5        -1.0  \n",
       "4         0.3         0.3        -0.2  "
      ]
     },
     "execution_count": 9,
     "metadata": {},
     "output_type": "execute_result"
    }
   ],
   "source": [
    "Zillow_forecast_df.head()"
   ]
  }
 ],
 "metadata": {
  "kernelspec": {
   "display_name": "base",
   "language": "python",
   "name": "python3"
  },
  "language_info": {
   "codemirror_mode": {
    "name": "ipython",
    "version": 3
   },
   "file_extension": ".py",
   "mimetype": "text/x-python",
   "name": "python",
   "nbconvert_exporter": "python",
   "pygments_lexer": "ipython3",
   "version": "3.11.5"
  }
 },
 "nbformat": 4,
 "nbformat_minor": 2
}
